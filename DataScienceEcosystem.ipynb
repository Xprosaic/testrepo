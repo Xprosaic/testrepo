{
 "cells": [
  {
   "cell_type": "markdown",
   "id": "f9153b0f-3d6a-4633-b819-262f59269020",
   "metadata": {},
   "source": [
    "# Data Science Tool and Ecosystem"
   ]
  },
  {
   "cell_type": "markdown",
   "id": "6c8b830c-e3fa-47ef-9cce-34e0f850877d",
   "metadata": {},
   "source": [
    "***In this notebook, Data Science Tools and Ecosystem are summarized.***"
   ]
  },
  {
   "cell_type": "markdown",
   "id": "f68db460-d810-4cf4-8c51-bdc2650fa50f",
   "metadata": {},
   "source": [
    "**Objectives** "
   ]
  },
  {
   "cell_type": "markdown",
   "id": "c850c442-9a70-44cb-a673-99af44fb1559",
   "metadata": {},
   "source": [
    "- Python\n",
    "- Java\n",
    "- R\n",
    "- SQL"
   ]
  },
  {
   "cell_type": "markdown",
   "id": "29309559-5d0b-465f-b160-02a79b467dbf",
   "metadata": {},
   "source": [
    "'Some of the popular languages that Data Scientists use are:'"
   ]
  },
  {
   "cell_type": "markdown",
   "id": "7660d727-650c-4713-8cdf-a5012620d987",
   "metadata": {},
   "source": [
    "1. Python\n",
    "2. Java\n",
    "3. R\n",
    "4. SQL"
   ]
  },
  {
   "cell_type": "markdown",
   "id": "54505658-45af-4449-9210-994ad4591dd7",
   "metadata": {},
   "source": [
    "__Some of the commonly used libraries used by Data Scientists include:__"
   ]
  },
  {
   "cell_type": "markdown",
   "id": "c84ed519-7e31-4030-9ff4-c98c70c43750",
   "metadata": {},
   "source": [
    "- Pandas\n",
    "- NumPy\n",
    "- TensorFlor\n",
    "- ggplot2"
   ]
  },
  {
   "cell_type": "markdown",
   "id": "73348bb9-b955-440c-b07e-432ca21b9d23",
   "metadata": {},
   "source": [
    "| Data Science Tools |\n",
    "| ---------- |\n",
    "| Jupiter |\n",
    "| Anaconda |\n",
    "| RStudio |"
   ]
  },
  {
   "cell_type": "markdown",
   "id": "e82302d8-a563-4bc2-a245-38b35fc99b7d",
   "metadata": {},
   "source": [
    "### Below are a few examples of evaluating arithmetic expressions in Python"
   ]
  },
  {
   "cell_type": "code",
   "execution_count": 22,
   "id": "cc4332f2-5bae-4d1c-ac7c-19b6ddd81377",
   "metadata": {},
   "outputs": [
    {
     "data": {
      "text/plain": [
       "17"
      ]
     },
     "execution_count": 22,
     "metadata": {},
     "output_type": "execute_result"
    }
   ],
   "source": [
    "(3*4)+5\n",
    "# This a simple arithmetic expression to multiply then add integers."
   ]
  },
  {
   "cell_type": "code",
   "execution_count": 34,
   "id": "614651dd-704e-4226-b5fd-120daa3d29e6",
   "metadata": {},
   "outputs": [
    {
     "data": {
      "text/plain": [
       "3.3333333333333335"
      ]
     },
     "execution_count": 34,
     "metadata": {},
     "output_type": "execute_result"
    }
   ],
   "source": [
    "# Converting 200 minutes to hours\n",
    "200/60\n",
    "# This will convert 200 minutes to hours"
   ]
  },
  {
   "cell_type": "markdown",
   "id": "8ac67551-485c-4ef5-966b-21342ff36a53",
   "metadata": {},
   "source": [
    "## Author\n",
    "JLPedro"
   ]
  },
  {
   "cell_type": "code",
   "execution_count": null,
   "id": "57f77a03-7c25-4302-a2d5-c78e8a3b2e3f",
   "metadata": {},
   "outputs": [],
   "source": []
  }
 ],
 "metadata": {
  "kernelspec": {
   "display_name": "Python 3 (ipykernel)",
   "language": "python",
   "name": "python3"
  },
  "language_info": {
   "codemirror_mode": {
    "name": "ipython",
    "version": 3
   },
   "file_extension": ".py",
   "mimetype": "text/x-python",
   "name": "python",
   "nbconvert_exporter": "python",
   "pygments_lexer": "ipython3",
   "version": "3.12.4"
  }
 },
 "nbformat": 4,
 "nbformat_minor": 5
}
